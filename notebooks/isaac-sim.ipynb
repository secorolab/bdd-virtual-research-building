{
 "cells": [
  {
   "cell_type": "markdown",
   "id": "8ef76aae",
   "metadata": {},
   "source": [
    "# Demo on Running Acceptance Tests using Behavior-Driven Development"
   ]
  },
  {
   "cell_type": "markdown",
   "id": "500ce650",
   "metadata": {},
   "source": [
    "## Overview\n",
    "\n",
    "In this notebook, you will generate feature files used to execute acceptance tests for an object-sorting task in the Isaac Sim simulator. The computational load for rendering the simulation is handled by a dedicated server, and the rendered environment is visualized on the VNC desktop via a WebRTC client application. Through this notebook, users can interact with the server to execute and visualize the tests.\n",
    "\n",
    "This demo involves opening the desktop environment as the first step, followed by generating the feature file. Next, the user registers on the server, uploads the feature file, and interacts with the rest of the API endpoints to control and analyze the tests.\n",
    "\n",
    "Once the start command is executed, please wait for approximately 20 seconds before launching the WebRTC client application. If it does not load, click `View` followed by `Reload`, and enter the assigned IP address in the `Server:` field.\n",
    "\n",
    "### Open VNC Desktop"
   ]
  },
  {
   "cell_type": "code",
   "execution_count": null,
   "id": "7a55d639",
   "metadata": {
    "vscode": {
     "languageId": "plaintext"
    }
   },
   "outputs": [],
   "source": [
    "# before executing this cell, make sure the **Simple** button at the bottom left of the window is unchecked\n",
    "\n",
    "from utils import display_desktop\n",
    "display_desktop()"
   ]
  },
  {
   "cell_type": "markdown",
   "id": "e25f262d",
   "metadata": {},
   "source": [
    "## Steps to Generate Feature Files in the Remote Desktop\n",
    "\n",
    "**Note**: The following steps are relevant only when using a terminal from the remote desktop. \n",
    "- Open a terminal, either in the desktop environment or in a separate tab within JupyterLab\n",
    "- Deactivate the conda environment: `conda deactivate`\n",
    "- Activate the Python virtual environment, where relevant packages are already installed: `source ~/venv/bin/activate`\n",
    "- Navigate to the *bdd-dsl/examples* path: `cd ~/behave-isaac-bdd/bdd-dsl/examples/`\n",
    "- Execute *generate_bdd_specs.py*: `python3 generate_bdd_specs.py`\n",
    "\n",
    "If the feature files are generated from the terminal, skip the next step and continue from setting server IP cell"
   ]
  },
  {
   "cell_type": "markdown",
   "id": "03c44d27",
   "metadata": {},
   "source": [
    "**Generate the feature file**"
   ]
  },
  {
   "cell_type": "code",
   "execution_count": null,
   "id": "b0e6e8ce",
   "metadata": {
    "vscode": {
     "languageId": "plaintext"
    }
   },
   "outputs": [],
   "source": [
    "%%bash --bg\n",
    "python3 ~/behave-isaac-bdd/bdd-dsl/examples/generate_bdd_specs.py"
   ]
  },
  {
   "cell_type": "markdown",
   "id": "aa1c89c8",
   "metadata": {},
   "source": [
    "### API endpoints\n",
    "- `register_user`: Assigns the user to a GPU pod and returns its IP address (used in WebRTC client)\n",
    "- `status`: Retrieves the current status of the assigned pod\n",
    "- `upload`: Uploads a *.feature* file for simulation\n",
    "- `start`: Starts the simulation on the assigned pod\n",
    "- `stop`: Stops the simulation\n",
    "- `logs?n`: Returns the last N lines from the simulation logs\n",
    "- `logs_stream`: Streams live logs from the simulation\n",
    "- `release`: Deregisters the user and frees the assigned pod\n",
    "\n",
    "**Notes:**\n",
    "- The API calls can be executed in any sequence that fits your custom logic\n",
    "- `release` should be called at the end of the session to deregister from assigned pod\n",
    "- Each user is assigned 30 minutes of usage time. Once the time expires, the user can register again to continue using the virtual lab"
   ]
  },
  {
   "cell_type": "markdown",
   "id": "b7aaee16",
   "metadata": {},
   "source": [
    "### import libraries and set server IP"
   ]
  },
  {
   "cell_type": "code",
   "execution_count": null,
   "id": "bf3fb242",
   "metadata": {
    "vscode": {
     "languageId": "plaintext"
    }
   },
   "outputs": [],
   "source": [
    "import subprocess\n",
    "\n",
    "# ip address of server used to access its API endpoint\n",
    "ws_ip_addr=\"192.168.0.203\""
   ]
  },
  {
   "cell_type": "markdown",
   "id": "e70a7e67",
   "metadata": {
    "vscode": {
     "languageId": "plaintext"
    }
   },
   "source": [
    "### register_user\n",
    "Assign the user to a GPU pod and returns its IP address (should be enetered in WebRTC client application)"
   ]
  },
  {
   "cell_type": "code",
   "execution_count": null,
   "id": "a70038c2",
   "metadata": {
    "vscode": {
     "languageId": "plaintext"
    }
   },
   "outputs": [],
   "source": [
    "%%bash -s \"$ws_ip_addr\"\n",
    "curl http://$1:8000/register_user"
   ]
  },
  {
   "cell_type": "markdown",
   "id": "62f2b824",
   "metadata": {
    "vscode": {
     "languageId": "plaintext"
    }
   },
   "source": [
    "### status\n",
    "Retrieve the current status of the assigned pod"
   ]
  },
  {
   "cell_type": "code",
   "execution_count": null,
   "id": "84e1d01a",
   "metadata": {
    "vscode": {
     "languageId": "plaintext"
    }
   },
   "outputs": [],
   "source": [
    "%%bash -s \"$ws_ip_addr\"\n",
    "curl http://$1:8000/status"
   ]
  },
  {
   "cell_type": "markdown",
   "id": "fdb315e6",
   "metadata": {
    "vscode": {
     "languageId": "plaintext"
    }
   },
   "source": [
    "### upload\n",
    "Upload a *.feature* file for simulation"
   ]
  },
  {
   "cell_type": "code",
   "execution_count": null,
   "id": "551dd6b8",
   "metadata": {
    "vscode": {
     "languageId": "plaintext"
    }
   },
   "outputs": [],
   "source": [
    "%%bash -s \"$ws_ip_addr\"\n",
    "curl -X POST http://$1:8000/upload -F \"file=@/home/jovyan/behave-isaac-bdd/bdd-dsl/examples/generated/var__us-sorting.feature\""
   ]
  },
  {
   "cell_type": "markdown",
   "id": "7f45ed60",
   "metadata": {
    "vscode": {
     "languageId": "plaintext"
    }
   },
   "source": [
    "### start\n",
    "Start the simulation on the assigned pod"
   ]
  },
  {
   "cell_type": "code",
   "execution_count": null,
   "id": "5811caa9",
   "metadata": {
    "vscode": {
     "languageId": "plaintext"
    }
   },
   "outputs": [],
   "source": [
    "%%bash -s \"$ws_ip_addr\"\n",
    "curl -X POST http://$1:8000/start"
   ]
  },
  {
   "cell_type": "markdown",
   "id": "e50cb29f",
   "metadata": {
    "vscode": {
     "languageId": "plaintext"
    }
   },
   "source": [
    "### logs_stream\n",
    "Live stream logs from the simulation"
   ]
  },
  {
   "cell_type": "code",
   "execution_count": null,
   "id": "960d71e3",
   "metadata": {
    "vscode": {
     "languageId": "plaintext"
    }
   },
   "outputs": [],
   "source": [
    "# start log stream in a terminal in VNC desktop\n",
    "subprocess.Popen([\n",
    "                    \"gnome-terminal\",\n",
    "                     \"--\",\n",
    "                     \"bash\", \"-c\", f\"curl http://{ws_ip_addr}:8000/logs_stream; exec bash\"\n",
    "                 ])"
   ]
  },
  {
   "cell_type": "markdown",
   "id": "023ee70f",
   "metadata": {},
   "source": [
    "### start WebRTC client application\n",
    "In the *Server* field of the aplication, set the pod IP assigned to the user in the **register_user** API call"
   ]
  },
  {
   "cell_type": "code",
   "execution_count": null,
   "id": "bb860d90",
   "metadata": {
    "vscode": {
     "languageId": "plaintext"
    }
   },
   "outputs": [],
   "source": [
    "# Update the server ip with the ip assigned above after registering\n",
    "subprocess.Popen([\n",
    "                    \"gnome-terminal\",\n",
    "                     \"--\",\n",
    "                     \"bash\", \"-c\", f\"webrtc-client --no-sandbox; exec bash\"\n",
    "                 ])"
   ]
  },
  {
   "cell_type": "markdown",
   "id": "4ebc7703",
   "metadata": {
    "vscode": {
     "languageId": "plaintext"
    }
   },
   "source": [
    "### logs?n\n",
    "Return the last N lines from the simulation logs"
   ]
  },
  {
   "cell_type": "code",
   "execution_count": null,
   "id": "b9b7a2d8",
   "metadata": {
    "vscode": {
     "languageId": "plaintext"
    }
   },
   "outputs": [],
   "source": [
    "%%bash -s \"$ws_ip_addr\"\n",
    "curl http://$1:8000/logs?n=10"
   ]
  },
  {
   "cell_type": "markdown",
   "id": "a7ee123b",
   "metadata": {
    "vscode": {
     "languageId": "plaintext"
    }
   },
   "source": [
    "### stop\n",
    "Stops the simulation"
   ]
  },
  {
   "cell_type": "code",
   "execution_count": null,
   "id": "2d80e095",
   "metadata": {
    "vscode": {
     "languageId": "plaintext"
    }
   },
   "outputs": [],
   "source": [
    "%%bash -s \"$ws_ip_addr\"\n",
    "curl -X POST http://$1:8000/stop"
   ]
  },
  {
   "cell_type": "markdown",
   "id": "6de9ec53",
   "metadata": {
    "vscode": {
     "languageId": "plaintext"
    }
   },
   "source": [
    "### release\n",
    "Deregister the user and frees the assigned pod"
   ]
  },
  {
   "cell_type": "code",
   "execution_count": null,
   "id": "24852612",
   "metadata": {
    "vscode": {
     "languageId": "plaintext"
    }
   },
   "outputs": [],
   "source": [
    "%%bash -s \"$ws_ip_addr\"\n",
    "curl -X POST http://$1:8000/release"
   ]
  },
  {
   "cell_type": "markdown",
   "id": "be8c76f4",
   "metadata": {},
   "source": [
    "**Note**: At the end of using this virtual lab, please shutdown the JupyterLab *(File->Shut Down)*, as it immediately frees resources for other users"
   ]
  }
 ],
 "metadata": {
  "language_info": {
   "name": "python"
  }
 },
 "nbformat": 4,
 "nbformat_minor": 5
}
