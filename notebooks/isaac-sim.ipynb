{
 "cells": [
  {
   "cell_type": "markdown",
   "id": "8ef76aae",
   "metadata": {},
   "source": [
    "# Demo for generating feature files"
   ]
  },
  {
   "cell_type": "markdown",
   "id": "500ce650",
   "metadata": {},
   "source": [
    "## Open VNC Desktop"
   ]
  },
  {
   "cell_type": "code",
   "execution_count": null,
   "id": "7a55d639",
   "metadata": {
    "vscode": {
     "languageId": "plaintext"
    }
   },
   "outputs": [],
   "source": [
    "from utils import display_desktop\n",
    "display_desktop()"
   ]
  },
  {
   "cell_type": "markdown",
   "id": "e25f262d",
   "metadata": {},
   "source": [
    "## Steps to generate feature files\n",
    "- Open a terminal, either in the desktop environment or in a separate tab within JupyterLab\n",
    "- Deactivate conda environment: `conda deactivate`\n",
    "- Activate the Python virtual environment, where relevant packages are already installed: `source ~/venv/bin/activate`\n",
    "- Navigate to *bdd-dsl/examples* path: `cd ~/behave-isaac-bdd/bdd-dsl/examples/`\n",
    "- Execute *generate_bdd_specs.py*: `python3 generate_bdd_specs.py`"
   ]
  },
  {
   "cell_type": "code",
   "execution_count": null,
   "id": "b0e6e8ce",
   "metadata": {
    "vscode": {
     "languageId": "plaintext"
    }
   },
   "outputs": [],
   "source": []
  }
 ],
 "metadata": {
  "language_info": {
   "name": "python"
  }
 },
 "nbformat": 4,
 "nbformat_minor": 5
}
